{
 "cells": [
  {
   "cell_type": "markdown",
   "metadata": {},
   "source": [
    "# Enterprise-Registration-Data Clean and Analyis"
   ]
  },
  {
   "cell_type": "markdown",
   "metadata": {},
   "source": [
    "1. input and konw the struture of data\n",
    "2. collect data for together\n",
    "3. add the map\n",
    "4. view the data"
   ]
  },
  {
   "cell_type": "code",
   "execution_count": 1,
   "metadata": {},
   "outputs": [],
   "source": [
    "import pandas as pd\n",
    "import os\n",
    "import glob"
   ]
  },
  {
   "cell_type": "code",
   "execution_count": 12,
   "metadata": {},
   "outputs": [],
   "source": [
    "path = 'data/Enterprise-Registration-Data/csv/1994/江苏.csv'\n",
    "df = pd.read_csv(path)"
   ]
  },
  {
   "cell_type": "code",
   "execution_count": 13,
   "metadata": {},
   "outputs": [],
   "source": [
    "new_columns = ['entername', 'socalcode', 'datetime', 'type', 'person', 'money', 'range', 'province', 'area', 'addres']"
   ]
  },
  {
   "cell_type": "code",
   "execution_count": 14,
   "metadata": {},
   "outputs": [
    {
     "data": {
      "text/html": [
       "<div>\n",
       "<style scoped>\n",
       "    .dataframe tbody tr th:only-of-type {\n",
       "        vertical-align: middle;\n",
       "    }\n",
       "\n",
       "    .dataframe tbody tr th {\n",
       "        vertical-align: top;\n",
       "    }\n",
       "\n",
       "    .dataframe thead th {\n",
       "        text-align: right;\n",
       "    }\n",
       "</style>\n",
       "<table border=\"1\" class=\"dataframe\">\n",
       "  <thead>\n",
       "    <tr style=\"text-align: right;\">\n",
       "      <th></th>\n",
       "      <th>entername</th>\n",
       "      <th>socalcode</th>\n",
       "      <th>datetime</th>\n",
       "      <th>type</th>\n",
       "      <th>person</th>\n",
       "      <th>money</th>\n",
       "      <th>range</th>\n",
       "      <th>province</th>\n",
       "      <th>area</th>\n",
       "      <th>addres</th>\n",
       "    </tr>\n",
       "  </thead>\n",
       "  <tbody>\n",
       "    <tr>\n",
       "      <th>0</th>\n",
       "      <td>交通银行股份有限公司南通城东支行</td>\n",
       "      <td>91320600731769323Q</td>\n",
       "      <td>1994-01-01</td>\n",
       "      <td>NaN</td>\n",
       "      <td>易晨阳</td>\n",
       "      <td>0(万元人民币)</td>\n",
       "      <td>按中国银行业监督管理委员会南通监管分局核发的机构编码为：B20523060S0242号金融许...</td>\n",
       "      <td>江苏</td>\n",
       "      <td>南通</td>\n",
       "      <td>工农路附38号</td>\n",
       "    </tr>\n",
       "    <tr>\n",
       "      <th>1</th>\n",
       "      <td>启东市有色金属制品厂有限公司</td>\n",
       "      <td>913206811388724186</td>\n",
       "      <td>1994-01-01</td>\n",
       "      <td>有限责任公司</td>\n",
       "      <td>黄彬</td>\n",
       "      <td>61万人民币</td>\n",
       "      <td>不锈钢、铝合金、日用金属制品制造、加工、销售。承接装饰装潢服务(凭资质证明)。</td>\n",
       "      <td>江苏</td>\n",
       "      <td>南通</td>\n",
       "      <td>汇龙镇东郊</td>\n",
       "    </tr>\n",
       "    <tr>\n",
       "      <th>2</th>\n",
       "      <td>常州市中油石油销售有限公司</td>\n",
       "      <td>91320400137224785J</td>\n",
       "      <td>1994-01-01</td>\n",
       "      <td>NaN</td>\n",
       "      <td>赵建明</td>\n",
       "      <td>3,180(万元人民币)</td>\n",
       "      <td>危险化学品仓储经营，批发（限《危险化学品经营许可证》核定范围）；成品油批发（限《成品油批发经...</td>\n",
       "      <td>江苏</td>\n",
       "      <td>常州</td>\n",
       "      <td>常州市钟楼经济开发区紫薇路2号</td>\n",
       "    </tr>\n",
       "    <tr>\n",
       "      <th>3</th>\n",
       "      <td>中国银行股份有限公司苏州阳澄湖支行</td>\n",
       "      <td>91320507592524392G</td>\n",
       "      <td>1994-01-03</td>\n",
       "      <td>NaN</td>\n",
       "      <td>朱瑞坤</td>\n",
       "      <td>0(万元人民币)</td>\n",
       "      <td>办理人民币存款、结算业务；外汇存款、外汇汇款、外币兑换；代理收付款项及代理保险业务；办理其上...</td>\n",
       "      <td>江苏</td>\n",
       "      <td>苏州</td>\n",
       "      <td>苏州市相城区湘城镇湘园路29号</td>\n",
       "    </tr>\n",
       "    <tr>\n",
       "      <th>4</th>\n",
       "      <td>南通凌海机械设备公司</td>\n",
       "      <td>913206021384547269</td>\n",
       "      <td>1994-01-03</td>\n",
       "      <td>NaN</td>\n",
       "      <td>王浩军</td>\n",
       "      <td>31.4690(万元人民币)</td>\n",
       "      <td>建筑机械、起重机械、金属结构制品、建筑材料、金属材料、五金交电、钢瓶、灶具、针纺织品及原料（...</td>\n",
       "      <td>江苏</td>\n",
       "      <td>南通</td>\n",
       "      <td>人民东路299号</td>\n",
       "    </tr>\n",
       "  </tbody>\n",
       "</table>\n",
       "</div>"
      ],
      "text/plain": [
       "           entername           socalcode    datetime    type person  \\\n",
       "0   交通银行股份有限公司南通城东支行  91320600731769323Q  1994-01-01     NaN    易晨阳   \n",
       "1     启东市有色金属制品厂有限公司  913206811388724186  1994-01-01  有限责任公司     黄彬   \n",
       "2      常州市中油石油销售有限公司  91320400137224785J  1994-01-01     NaN    赵建明   \n",
       "3  中国银行股份有限公司苏州阳澄湖支行  91320507592524392G  1994-01-03     NaN    朱瑞坤   \n",
       "4         南通凌海机械设备公司  913206021384547269  1994-01-03     NaN    王浩军   \n",
       "\n",
       "            money                                              range province  \\\n",
       "0        0(万元人民币)  按中国银行业监督管理委员会南通监管分局核发的机构编码为：B20523060S0242号金融许...       江苏   \n",
       "1          61万人民币            不锈钢、铝合金、日用金属制品制造、加工、销售。承接装饰装潢服务(凭资质证明)。       江苏   \n",
       "2    3,180(万元人民币)  危险化学品仓储经营，批发（限《危险化学品经营许可证》核定范围）；成品油批发（限《成品油批发经...       江苏   \n",
       "3        0(万元人民币)  办理人民币存款、结算业务；外汇存款、外汇汇款、外币兑换；代理收付款项及代理保险业务；办理其上...       江苏   \n",
       "4  31.4690(万元人民币)  建筑机械、起重机械、金属结构制品、建筑材料、金属材料、五金交电、钢瓶、灶具、针纺织品及原料（...       江苏   \n",
       "\n",
       "  area           addres  \n",
       "0   南通          工农路附38号  \n",
       "1   南通            汇龙镇东郊  \n",
       "2   常州  常州市钟楼经济开发区紫薇路2号  \n",
       "3   苏州  苏州市相城区湘城镇湘园路29号  \n",
       "4   南通         人民东路299号  "
      ]
     },
     "execution_count": 14,
     "metadata": {},
     "output_type": "execute_result"
    }
   ],
   "source": [
    "df_new = pd.read_csv(path, names=new_columns, skiprows=1)\n",
    "df_new.head()"
   ]
  },
  {
   "cell_type": "code",
   "execution_count": 16,
   "metadata": {},
   "outputs": [
    {
     "data": {
      "text/plain": [
       "Index(['entername', 'socalcode', 'datetime', 'type', 'person', 'money',\n",
       "       'range', 'province', 'area', 'addres', 'capital'],\n",
       "      dtype='object')"
      ]
     },
     "execution_count": 16,
     "metadata": {},
     "output_type": "execute_result"
    }
   ],
   "source": [
    "df_new.columns"
   ]
  },
  {
   "cell_type": "code",
   "execution_count": 17,
   "metadata": {},
   "outputs": [],
   "source": [
    "df_new['capital'] = df_new['money'].str.split('(', expand=True)[0]\n",
    "df_a = df_new[['entername', 'socalcode', 'datetime']]\n",
    "df_a.to_csv('test_data.csv')"
   ]
  },
  {
   "cell_type": "code",
   "execution_count": null,
   "metadata": {},
   "outputs": [],
   "source": []
  }
 ],
 "metadata": {
  "kernelspec": {
   "display_name": "Python 3",
   "language": "python",
   "name": "python3"
  },
  "language_info": {
   "codemirror_mode": {
    "name": "ipython",
    "version": 3
   },
   "file_extension": ".py",
   "mimetype": "text/x-python",
   "name": "python",
   "nbconvert_exporter": "python",
   "pygments_lexer": "ipython3",
   "version": "3.6.8"
  }
 },
 "nbformat": 4,
 "nbformat_minor": 2
}
