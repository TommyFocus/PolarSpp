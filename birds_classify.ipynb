{
 "cells": [
  {
   "cell_type": "markdown",
   "metadata": {},
   "source": [
    "### data: http://www.vision.caltech.edu/visipedia-data/CUB-200/images.tgz\n",
    "### 挑选前6种鸟类做多标签分类实验，写个脚本删除其中\"._\"开头的文件"
   ]
  },
  {
   "cell_type": "code",
   "execution_count": 1,
   "metadata": {},
   "outputs": [
    {
     "name": "stderr",
     "output_type": "stream",
     "text": [
      "Using TensorFlow backend.\n"
     ]
    }
   ],
   "source": [
    "import os\n",
    "from keras.models import Sequential\n",
    "from keras.layers import Conv2D, MaxPooling2D\n",
    "from keras.layers import Activation, Dropout, Flatten, Dense\n",
    "from keras.preprocessing.image import ImageDataGenerator, array_to_img, img_to_array, load_img"
   ]
  },
  {
   "cell_type": "code",
   "execution_count": 24,
   "metadata": {},
   "outputs": [],
   "source": [
    "RAW_PATH = \"E:/brid/raw_data\" # 原始图像路径：6种（自己拷贝出来，\n",
    "ROOT_PATH = \"E:/brid/data/\" # 数据增光之后新的图像路径"
   ]
  },
  {
   "cell_type": "code",
   "execution_count": 3,
   "metadata": {},
   "outputs": [],
   "source": [
    "datagen = ImageDataGenerator(rotation_range=40,\n",
    "                             width_shift_range=0.2,\n",
    "                             height_shift_range=0.2,\n",
    "                             shear_range=0.2,\n",
    "                             zoom_range=0.2,\n",
    "                             horizontal_flip=True,\n",
    "                             fill_mode='nearest')\n",
    "\n",
    "# 将数据按（10:3:3）划分为训练集、测试集、验证集\n",
    "file_name = {'train':10, 'test':3, 'val':3}\n",
    "\n",
    "# 自动将数据增光并划分到对应的集合中\n",
    "for key,values in file_name.items():\n",
    "    for i in os.listdir(RAW_PATH):\n",
    "        os.makedirs(ROOT_PATH + str(key) + \"/\" + str(i))\n",
    "        next_path = os.path.join(RAW_PATH, i)\n",
    "        for j in os.listdir(next_path):\n",
    "            img = load_img(next_path + \"/\" + j)\n",
    "            x = img_to_array(img)\n",
    "            x = x.reshape((1,) + x.shape)\n",
    "            q = 0\n",
    "            for batch in datagen.flow(x, batch_size=1, save_to_dir=ROOT_PATH + str(key) + \"/\" + str(i), \n",
    "                                      save_prefix='pandas', save_format='jpg'):\n",
    "                q += 1\n",
    "                if q > values:\n",
    "                    break"
   ]
  },
  {
   "cell_type": "markdown",
   "metadata": {},
   "source": [
    "#### 定义数据的路径"
   ]
  },
  {
   "cell_type": "code",
   "execution_count": 22,
   "metadata": {},
   "outputs": [],
   "source": [
    "train_data = os.path.join(ROOT_PATH, 'train')\n",
    "test_data = os.path.join(ROOT_PATH, 'test')\n",
    "val_data = os.path.join(ROOT_PATH, 'val')"
   ]
  },
  {
   "cell_type": "markdown",
   "metadata": {},
   "source": [
    "#### 模型训练的参数"
   ]
  },
  {
   "cell_type": "code",
   "execution_count": 11,
   "metadata": {},
   "outputs": [],
   "source": [
    "nb_train_samples = 540\n",
    "nb_validation_samples = 60\n",
    "epochs = 40\n",
    "batch_size = 20"
   ]
  },
  {
   "cell_type": "code",
   "execution_count": 25,
   "metadata": {},
   "outputs": [
    {
     "name": "stdout",
     "output_type": "stream",
     "text": [
      "Found 1891 images belonging to 6 classes.\n",
      "Found 692 images belonging to 6 classes.\n",
      "Found 692 images belonging to 6 classes.\n"
     ]
    }
   ],
   "source": [
    "model = Sequential()\n",
    "model.add(Conv2D(32, 3, activation='relu', input_shape=(150,150,3)))\n",
    "model.add(MaxPooling2D(pool_size=(2, 2)))\n",
    "model.add(Conv2D(32, 3, activation='relu'))\n",
    "model.add(MaxPooling2D(pool_size=(2, 2)))\n",
    "model.add(Conv2D(64, 3, activation='relu'))\n",
    "model.add(MaxPooling2D(pool_size=(2, 2)))\n",
    "model.add(Flatten())\n",
    "model.add(Dense(64))\n",
    "model.add(Activation('relu'))\n",
    "model.add(Dropout(0.5))\n",
    "model.add(Dense(6))\n",
    "model.add(Activation('softmax'))\n",
    "\n",
    "model.compile(loss='binary_crossentropy',\n",
    "              optimizer='rmsprop',\n",
    "              metrics=['accuracy'])\n",
    "\n",
    "# 数据增强\n",
    "train_datagen = ImageDataGenerator(rescale=1./255,\n",
    "                                   shear_range=0.2,\n",
    "                                   zoom_range=0.2,\n",
    "                                   horizontal_flip=True)\n",
    "# 测试数据不需要增强\n",
    "test_datagen = ImageDataGenerator(rescale=1./255)\n",
    "\n",
    "train_generator = train_datagen.flow_from_directory(train_data,\n",
    "                                                    target_size=(150,150),\n",
    "                                                    batch_size=32,\n",
    "                                                    class_mode='categorical')\n",
    "\n",
    "validation_generator = test_datagen.flow_from_directory(val_data,\n",
    "                                                        target_size=(150,150),\n",
    "                                                        batch_size=32,\n",
    "                                                        class_mode='categorical')\n",
    "\n",
    "test_generator = test_datagen.flow_from_directory(val_data,\n",
    "                                                        target_size=(150,150),\n",
    "                                                        batch_size=32,\n",
    "                                                        class_mode='categorical')"
   ]
  },
  {
   "cell_type": "code",
   "execution_count": 15,
   "metadata": {},
   "outputs": [
    {
     "name": "stdout",
     "output_type": "stream",
     "text": [
      "Epoch 1/40\n",
      "27/27 [==============================] - 8s 300ms/step - loss: 0.4513 - acc: 0.8324 - val_loss: 0.4234 - val_acc: 0.8403\n",
      "Epoch 2/40\n",
      "27/27 [==============================] - 6s 210ms/step - loss: 0.4248 - acc: 0.8399 - val_loss: 0.3689 - val_acc: 0.8559\n",
      "Epoch 3/40\n",
      "27/27 [==============================] - 6s 217ms/step - loss: 0.4247 - acc: 0.8391 - val_loss: 0.3991 - val_acc: 0.8472\n",
      "Epoch 4/40\n",
      "27/27 [==============================] - 6s 212ms/step - loss: 0.4082 - acc: 0.8420 - val_loss: 0.4153 - val_acc: 0.8385\n",
      "Epoch 5/40\n",
      "27/27 [==============================] - 6s 226ms/step - loss: 0.3878 - acc: 0.8453 - val_loss: 0.3873 - val_acc: 0.8472\n",
      "Epoch 6/40\n",
      "27/27 [==============================] - 6s 221ms/step - loss: 0.3783 - acc: 0.8474 - val_loss: 0.3355 - val_acc: 0.8594\n",
      "Epoch 7/40\n",
      "27/27 [==============================] - 7s 245ms/step - loss: 0.3611 - acc: 0.8540 - val_loss: 0.3383 - val_acc: 0.8576\n",
      "Epoch 8/40\n",
      "27/27 [==============================] - 7s 250ms/step - loss: 0.3428 - acc: 0.8561 - val_loss: 0.3326 - val_acc: 0.8760\n",
      "Epoch 9/40\n",
      "27/27 [==============================] - 6s 235ms/step - loss: 0.3390 - acc: 0.8611 - val_loss: 0.2949 - val_acc: 0.8750\n",
      "Epoch 10/40\n",
      "27/27 [==============================] - 7s 254ms/step - loss: 0.3297 - acc: 0.8632 - val_loss: 0.3013 - val_acc: 0.8733\n",
      "Epoch 11/40\n",
      "27/27 [==============================] - 6s 239ms/step - loss: 0.3441 - acc: 0.8546 - val_loss: 0.3072 - val_acc: 0.8715\n",
      "Epoch 12/40\n",
      "27/27 [==============================] - 7s 250ms/step - loss: 0.3201 - acc: 0.8679 - val_loss: 0.2704 - val_acc: 0.8767\n",
      "Epoch 13/40\n",
      "27/27 [==============================] - 6s 237ms/step - loss: 0.3146 - acc: 0.8745 - val_loss: 0.3353 - val_acc: 0.8698\n",
      "Epoch 14/40\n",
      "27/27 [==============================] - 7s 269ms/step - loss: 0.3107 - acc: 0.8688 - val_loss: 0.2884 - val_acc: 0.8715\n",
      "Epoch 15/40\n",
      "27/27 [==============================] - 7s 249ms/step - loss: 0.2988 - acc: 0.8734 - val_loss: 0.2415 - val_acc: 0.9024\n",
      "Epoch 16/40\n",
      "27/27 [==============================] - 7s 256ms/step - loss: 0.2720 - acc: 0.8906 - val_loss: 0.2611 - val_acc: 0.8872\n",
      "Epoch 17/40\n",
      "27/27 [==============================] - 7s 246ms/step - loss: 0.2723 - acc: 0.8850 - val_loss: 0.2828 - val_acc: 0.8889\n",
      "Epoch 18/40\n",
      "27/27 [==============================] - 7s 248ms/step - loss: 0.2741 - acc: 0.8804 - val_loss: 0.2245 - val_acc: 0.9062\n",
      "Epoch 19/40\n",
      "27/27 [==============================] - 7s 257ms/step - loss: 0.2596 - acc: 0.8924 - val_loss: 0.2485 - val_acc: 0.8906\n",
      "Epoch 20/40\n",
      "27/27 [==============================] - 7s 255ms/step - loss: 0.2585 - acc: 0.8958 - val_loss: 0.2147 - val_acc: 0.9080\n",
      "Epoch 21/40\n",
      "27/27 [==============================] - 7s 256ms/step - loss: 0.2351 - acc: 0.9030 - val_loss: 0.3148 - val_acc: 0.8681\n",
      "Epoch 22/40\n",
      "27/27 [==============================] - 7s 253ms/step - loss: 0.2499 - acc: 0.8971 - val_loss: 0.1966 - val_acc: 0.9207\n",
      "Epoch 23/40\n",
      "27/27 [==============================] - 7s 266ms/step - loss: 0.2169 - acc: 0.9128 - val_loss: 0.1866 - val_acc: 0.9236\n",
      "Epoch 24/40\n",
      "27/27 [==============================] - 7s 267ms/step - loss: 0.2410 - acc: 0.9037 - val_loss: 0.2071 - val_acc: 0.9080\n",
      "Epoch 25/40\n",
      "27/27 [==============================] - 7s 255ms/step - loss: 0.2228 - acc: 0.9097 - val_loss: 0.2236 - val_acc: 0.9236\n",
      "Epoch 26/40\n",
      "27/27 [==============================] - 7s 265ms/step - loss: 0.2132 - acc: 0.9128 - val_loss: 0.1984 - val_acc: 0.9236\n",
      "Epoch 27/40\n",
      "27/27 [==============================] - 7s 255ms/step - loss: 0.2390 - acc: 0.8988 - val_loss: 0.2228 - val_acc: 0.9097\n",
      "Epoch 28/40\n",
      "27/27 [==============================] - 7s 260ms/step - loss: 0.2089 - acc: 0.9148 - val_loss: 0.1978 - val_acc: 0.9201\n",
      "Epoch 29/40\n",
      "27/27 [==============================] - 7s 267ms/step - loss: 0.1986 - acc: 0.9178 - val_loss: 0.1942 - val_acc: 0.9167\n",
      "Epoch 30/40\n",
      "27/27 [==============================] - 7s 268ms/step - loss: 0.2152 - acc: 0.9153 - val_loss: 0.2135 - val_acc: 0.9045\n",
      "Epoch 31/40\n",
      "27/27 [==============================] - 7s 259ms/step - loss: 0.1983 - acc: 0.9199 - val_loss: 0.1715 - val_acc: 0.9306\n",
      "Epoch 32/40\n",
      "27/27 [==============================] - 7s 268ms/step - loss: 0.2007 - acc: 0.9157 - val_loss: 0.2023 - val_acc: 0.9097\n",
      "Epoch 33/40\n",
      "27/27 [==============================] - 7s 267ms/step - loss: 0.1911 - acc: 0.9222 - val_loss: 0.1335 - val_acc: 0.9392\n",
      "Epoch 34/40\n",
      "27/27 [==============================] - 7s 269ms/step - loss: 0.1849 - acc: 0.9279 - val_loss: 0.1715 - val_acc: 0.9427\n",
      "Epoch 35/40\n",
      "27/27 [==============================] - 7s 272ms/step - loss: 0.2335 - acc: 0.9130 - val_loss: 0.1678 - val_acc: 0.9340\n",
      "Epoch 36/40\n",
      "27/27 [==============================] - 7s 259ms/step - loss: 0.1779 - acc: 0.9280 - val_loss: 0.1961 - val_acc: 0.9201\n",
      "Epoch 37/40\n",
      "27/27 [==============================] - 7s 275ms/step - loss: 0.1773 - acc: 0.9288 - val_loss: 0.1740 - val_acc: 0.9126\n",
      "Epoch 38/40\n",
      "27/27 [==============================] - 7s 264ms/step - loss: 0.1699 - acc: 0.9278 - val_loss: 0.1773 - val_acc: 0.9236\n",
      "Epoch 39/40\n",
      "27/27 [==============================] - 7s 269ms/step - loss: 0.1732 - acc: 0.9321 - val_loss: 0.1636 - val_acc: 0.9323\n",
      "Epoch 40/40\n",
      "27/27 [==============================] - 7s 263ms/step - loss: 0.1715 - acc: 0.9291 - val_loss: 0.1875 - val_acc: 0.9323\n"
     ]
    }
   ],
   "source": [
    "history = model.fit_generator(\n",
    "            train_generator,\n",
    "            steps_per_epoch=nb_train_samples // batch_size,\n",
    "            epochs=epochs,\n",
    "            validation_data=validation_generator,\n",
    "            validation_steps=nb_validation_samples // batch_size)"
   ]
  },
  {
   "cell_type": "code",
   "execution_count": 16,
   "metadata": {},
   "outputs": [
    {
     "data": {
      "image/png": "[encoded data removed]",
      "text/plain": [
       "<Figure size 432x288 with 1 Axes>"
      ]
     },
     "metadata": {
      "needs_background": "light"
     },
     "output_type": "display_data"
    },
    {
     "data": {
      "image/png": "[encoded data removed]",
      "text/plain": [
       "<Figure size 432x288 with 1 Axes>"
      ]
     },
     "metadata": {
      "needs_background": "light"
     },
     "output_type": "display_data"
    }
   ],
   "source": [
    "import matplotlib.pyplot as plt\n",
    "%matplotlib inline\n",
    "\n",
    "acc = history.history['acc']\n",
    "val_acc = history.history['val_acc']\n",
    "loss = history.history['loss']\n",
    "val_loss = history.history['val_loss']\n",
    "epochs = range(1, len(acc) + 1)\n",
    "plt.plot(epochs, acc, 'bo', label='Training acc')\n",
    "plt.plot(epochs, val_acc, 'b', label='Validation acc')\n",
    "plt.title('Training and validation accuracy')\n",
    "plt.legend()\n",
    "plt.figure()\n",
    "\n",
    "plt.plot(epochs, loss, 'bo', label='Training loss')\n",
    "plt.plot(epochs, val_loss, 'b', label='Validation loss')\n",
    "plt.title('Training and validation loss')\n",
    "plt.legend()\n",
    "plt.show();"
   ]
  },
  {
   "cell_type": "code",
   "execution_count": 17,
   "metadata": {},
   "outputs": [
    {
     "data": {
      "text/plain": [
       "3898"
      ]
     },
     "execution_count": 17,
     "metadata": {},
     "output_type": "execute_result"
    }
   ],
   "source": [
    "# 保存整个模型\n",
    "model.save('model.hdf5')\n",
    "\n",
    "# 保存模型的权重\n",
    "model.save_weights('model_weights.h5')\n",
    "\n",
    "# 保存模型的结构\n",
    "json_string = model.to_json()\n",
    "open('model_to_json.json','w').write(json_string)\n",
    "yaml_string = model.to_yaml()\n",
    "open('model_to_yaml.yaml','w').write(json_string)"
   ]
  },
  {
   "cell_type": "code",
   "execution_count": 27,
   "metadata": {},
   "outputs": [
    {
     "data": {
      "text/plain": [
       "array([[9.99885559e-01, 1.47223193e-06, 1.21112880e-08, 1.69357117e-09,\n",
       "        1.13042945e-04, 1.08764009e-09]], dtype=float32)"
      ]
     },
     "execution_count": 27,
     "metadata": {},
     "output_type": "execute_result"
    }
   ],
   "source": [
    "from keras.models import load_model\n",
    "import numpy as np\n",
    "\n",
    "model = load_model('model.hdf5')\n",
    "\n",
    "img = load_img('E:/brid/raw_data/001/Black_footed_Albatross_0017_1256111444.jpg', target_size=(150, 150))\n",
    "img = img_to_array(img) / 255.0\n",
    "img = np.expand_dims(img, axis=0)\n",
    "\n",
    "predictions = model.predict(img)\n",
    "predictions"
   ]
  },
  {
   "cell_type": "code",
   "execution_count": null,
   "metadata": {},
   "outputs": [],
   "source": []
  }
 ],
 "metadata": {
  "kernelspec": {
   "display_name": "Python 3",
   "language": "python",
   "name": "python3"
  },
  "language_info": {
   "codemirror_mode": {
    "name": "ipython",
    "version": 3
   },
   "file_extension": ".py",
   "mimetype": "text/x-python",
   "name": "python",
   "nbconvert_exporter": "python",
   "pygments_lexer": "ipython3",
   "version": "3.6.8"
  }
 },
 "nbformat": 4,
 "nbformat_minor": 2
}
